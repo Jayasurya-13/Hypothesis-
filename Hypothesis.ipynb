{
 "cells": [
  {
   "cell_type": "raw",
   "id": "7343259d-828b-4e71-8e0e-0bf099a7ad53",
   "metadata": {},
   "source": [
    "Hypothesis Testing the increase in weekly operating costs.\n",
    "                  The basis of hypothesis testing has two attributes:\n",
    "                         Null Hypothesis: H0\n",
    "                         Alternative Hypothesis: Hα\n"
   ]
  },
  {
   "cell_type": "markdown",
   "id": "15be11a2-3f35-466c-aacd-bdc1b5e7745a",
   "metadata": {},
   "source": [
    "Calculate the Test Statistic"
   ]
  },
  {
   "cell_type": "raw",
   "id": "d09e6724-89d1-4f1a-9656-324b369444b8",
   "metadata": {},
   "source": [
    "      Z test of hypothesis for restaurent owner claims for higher"
   ]
  },
  {
   "cell_type": "raw",
   "id": "da97c06c-8155-4bc4-92cf-fed34bfb4a79",
   "metadata": {},
   "source": [
    "ˉxˉ = sample mean weekly cost (Rs. 3,050)\n",
    "μ = theoretical mean weekly cost according to the cost model (W = $1,000 + $5X for X = 600 units)\n",
    "σ = 5*25 units\n",
    "n = sample size (25 restaurants)\n",
    "\n",
    "      z score = sample mean - population mean/population std/sqrt(n)\n",
    "      z score = 3050 - 600/125/sqrt(25)\n",
    "      z score = 2450/25\n",
    "      z score = 98\n"
   ]
  },
  {
   "cell_type": "raw",
   "id": "03663bde-2a01-4aab-9095-e1ea9eaed8f8",
   "metadata": {},
   "source": [
    "Determine the Critical Value:\n",
    "Using the alpha level of 5% (α = 0.05), determine the critical value from the standard normal (Z) distribution table\n"
   ]
  },
  {
   "cell_type": "raw",
   "id": "96978228-b091-48db-bc06-38a892e7412b",
   "metadata": {},
   "source": [
    "Make a Decision:\n",
    "Compare the test statistic with the critical value to decide whether to reject the null hypothesis.\n",
    "                Test statistic Z statistic one tailed z stat > z score critical value <a\n",
    "                reject null hypothesis if z stat > z score we will not reject null hypothesis <a\n",
    "                                "
   ]
  },
  {
   "cell_type": "raw",
   "id": "bffa27d4-4c1b-4d8c-9d35-2ebde42795e0",
   "metadata": {},
   "source": [
    "Conclusion\n",
    "          Based on the decision in step 4, conclude whether there is strong evidence to support the restaurant owners' claim that the weekly operating costs are higher than the model suggests."
   ]
  },
  {
   "cell_type": "code",
   "execution_count": 5,
   "id": "89ade5e8-6985-43ae-9ba3-dc29426fe97c",
   "metadata": {},
   "outputs": [],
   "source": [
    "import pandas as pd\n",
    "import numpy as np\n",
    "import scipy.stats as stats"
   ]
  },
  {
   "cell_type": "code",
   "execution_count": null,
   "id": "3334c4f6-41a5-4810-84aa-ce5d761ee7e5",
   "metadata": {},
   "outputs": [],
   "source": [
    "sample_mean = 3050\n",
    "population_mean = 600\n",
    "population_stddev = 125\n",
    "sample_size(n) = 24\n",
    "alpha = 0.05\n",
    "\n",
    "z_score = (sample_mean - population_mean)/(population_stddev/np.sqrt(25))\n",
    "print('z_score:')\n",
    "\n",
    "#critical value z_score\n",
    "z_critical = stats.norm.ppf(1-alpha)\n",
    "print('z_critical:')\n",
    "\n",
    "if z_score > z_critical:\n",
    "    print('reject null hypothesis')\n",
    "else:\n",
    "    print('Fail to reject null hypothesis')\n",
    "\n",
    "\n",
    "\n",
    "#using p-value\n",
    "#probability of getting less than z_score\n",
    "p_value = 1-stats.norm.cdf(z_score)\n",
    "print('p_value')\n",
    "\n",
    "if z_score > z_critical:\n",
    "    print('reject null hypothesis')\n",
    "else:\n",
    "    print('Fail to reject null hypothesis')\n",
    "\n",
    "\n",
    "z_score = 98.0\n",
    "critical z_score = 1.64485\n",
    "Reject null hypothesis\n",
    "p-value : 0.0\n",
    "Reject null hypothesis\n"
   ]
  }
 ],
 "metadata": {
  "kernelspec": {
   "display_name": "Python 3 (ipykernel)",
   "language": "python",
   "name": "python3"
  },
  "language_info": {
   "codemirror_mode": {
    "name": "ipython",
    "version": 3
   },
   "file_extension": ".py",
   "mimetype": "text/x-python",
   "name": "python",
   "nbconvert_exporter": "python",
   "pygments_lexer": "ipython3",
   "version": "3.11.7"
  }
 },
 "nbformat": 4,
 "nbformat_minor": 5
}
